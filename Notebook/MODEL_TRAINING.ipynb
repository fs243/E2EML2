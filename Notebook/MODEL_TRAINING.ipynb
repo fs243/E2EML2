{
 "cells": [
  {
   "cell_type": "code",
   "execution_count": 3,
   "metadata": {},
   "outputs": [],
   "source": [
    "import numpy as np \n",
    "import pandas as pd \n",
    "import seaborn as sns \n",
    "import matplotlib.pyplot as plt \n",
    "from sklearn.neighbors import KNeighborsRegressor\n",
    "from sklearn.tree import DecisionTreeRegressor\n",
    "from sklearn.ensemble import AdaBoostRegressor,RandomForestRegressor\n",
    "from sklearn.svm import SVR\n",
    "\n",
    "\n",
    "\n",
    "\n",
    "from sklearn.linear_model import Lasso, Ridge, LinearRegression\n",
    "from sklearn.metrics import r2_score, mean_absolute_error,mean_squared_error\n",
    "from sklearn.model_selection import RandomizedSearchCV\n",
    "\n",
    "from catboost import CatBoostRegressor\n",
    "from xgboost import XGBRegressor\n",
    "import warnings"
   ]
  },
  {
   "cell_type": "code",
   "execution_count": 7,
   "metadata": {},
   "outputs": [],
   "source": [
    "df=pd.read_csv('stud.csv')"
   ]
  },
  {
   "cell_type": "code",
   "execution_count": 8,
   "metadata": {},
   "outputs": [
    {
     "data": {
      "text/html": [
       "<div>\n",
       "<style scoped>\n",
       "    .dataframe tbody tr th:only-of-type {\n",
       "        vertical-align: middle;\n",
       "    }\n",
       "\n",
       "    .dataframe tbody tr th {\n",
       "        vertical-align: top;\n",
       "    }\n",
       "\n",
       "    .dataframe thead th {\n",
       "        text-align: right;\n",
       "    }\n",
       "</style>\n",
       "<table border=\"1\" class=\"dataframe\">\n",
       "  <thead>\n",
       "    <tr style=\"text-align: right;\">\n",
       "      <th></th>\n",
       "      <th>gender</th>\n",
       "      <th>race_ethnicity</th>\n",
       "      <th>parental_level_of_education</th>\n",
       "      <th>lunch</th>\n",
       "      <th>test_preparation_course</th>\n",
       "      <th>math_score</th>\n",
       "      <th>reading_score</th>\n",
       "      <th>writing_score</th>\n",
       "    </tr>\n",
       "  </thead>\n",
       "  <tbody>\n",
       "    <tr>\n",
       "      <th>0</th>\n",
       "      <td>female</td>\n",
       "      <td>group B</td>\n",
       "      <td>bachelor's degree</td>\n",
       "      <td>standard</td>\n",
       "      <td>none</td>\n",
       "      <td>72</td>\n",
       "      <td>72</td>\n",
       "      <td>74</td>\n",
       "    </tr>\n",
       "    <tr>\n",
       "      <th>1</th>\n",
       "      <td>female</td>\n",
       "      <td>group C</td>\n",
       "      <td>some college</td>\n",
       "      <td>standard</td>\n",
       "      <td>completed</td>\n",
       "      <td>69</td>\n",
       "      <td>90</td>\n",
       "      <td>88</td>\n",
       "    </tr>\n",
       "    <tr>\n",
       "      <th>2</th>\n",
       "      <td>female</td>\n",
       "      <td>group B</td>\n",
       "      <td>master's degree</td>\n",
       "      <td>standard</td>\n",
       "      <td>none</td>\n",
       "      <td>90</td>\n",
       "      <td>95</td>\n",
       "      <td>93</td>\n",
       "    </tr>\n",
       "    <tr>\n",
       "      <th>3</th>\n",
       "      <td>male</td>\n",
       "      <td>group A</td>\n",
       "      <td>associate's degree</td>\n",
       "      <td>free/reduced</td>\n",
       "      <td>none</td>\n",
       "      <td>47</td>\n",
       "      <td>57</td>\n",
       "      <td>44</td>\n",
       "    </tr>\n",
       "    <tr>\n",
       "      <th>4</th>\n",
       "      <td>male</td>\n",
       "      <td>group C</td>\n",
       "      <td>some college</td>\n",
       "      <td>standard</td>\n",
       "      <td>none</td>\n",
       "      <td>76</td>\n",
       "      <td>78</td>\n",
       "      <td>75</td>\n",
       "    </tr>\n",
       "  </tbody>\n",
       "</table>\n",
       "</div>"
      ],
      "text/plain": [
       "   gender race_ethnicity parental_level_of_education         lunch  \\\n",
       "0  female        group B           bachelor's degree      standard   \n",
       "1  female        group C                some college      standard   \n",
       "2  female        group B             master's degree      standard   \n",
       "3    male        group A          associate's degree  free/reduced   \n",
       "4    male        group C                some college      standard   \n",
       "\n",
       "  test_preparation_course  math_score  reading_score  writing_score  \n",
       "0                    none          72             72             74  \n",
       "1               completed          69             90             88  \n",
       "2                    none          90             95             93  \n",
       "3                    none          47             57             44  \n",
       "4                    none          76             78             75  "
      ]
     },
     "execution_count": 8,
     "metadata": {},
     "output_type": "execute_result"
    }
   ],
   "source": [
    "df.head()"
   ]
  },
  {
   "cell_type": "code",
   "execution_count": 5,
   "metadata": {},
   "outputs": [],
   "source": [
    "X=df.drop(columns=['math_score'], axis=1)"
   ]
  },
  {
   "cell_type": "code",
   "execution_count": 9,
   "metadata": {},
   "outputs": [],
   "source": [
    "y=df['math_score']"
   ]
  },
  {
   "cell_type": "code",
   "execution_count": 10,
   "metadata": {},
   "outputs": [
    {
     "name": "stdout",
     "output_type": "stream",
     "text": [
      "categories in gender are \n",
      "['female' 'male']\n",
      "categories in race_ethnicity are \n",
      "['group B' 'group C' 'group A' 'group D' 'group E']\n",
      "categories in parental_level_of_education are \n",
      "[\"bachelor's degree\" 'some college' \"master's degree\" \"associate's degree\"\n",
      " 'high school' 'some high school']\n",
      "categories in lunch are \n",
      "['standard' 'free/reduced']\n",
      "categories in test_preparation_course  are \n",
      "['none' 'completed']\n"
     ]
    }
   ],
   "source": [
    "print('categories in gender are ')\n",
    "print(df['gender'].unique())\n",
    "\n",
    "print('categories in race_ethnicity are ')\n",
    "print(df['race_ethnicity'].unique())\n",
    "\n",
    "\n",
    "print('categories in parental_level_of_education are ')\n",
    "print(df['parental_level_of_education'].unique())\n",
    "\n",
    "print('categories in lunch are ')\n",
    "print(df['lunch'].unique())\n",
    "\n",
    "print('categories in test_preparation_course  are ')\n",
    "print(df['test_preparation_course'].unique())\n",
    "\n"
   ]
  },
  {
   "cell_type": "code",
   "execution_count": 14,
   "metadata": {},
   "outputs": [],
   "source": [
    "num_features=X.select_dtypes(exclude='object').columns\n",
    "cat_features=X.select_dtypes(include='object').columns\n",
    "\n",
    "from sklearn.preprocessing import OneHotEncoder,StandardScaler\n",
    "from sklearn.compose import ColumnTransformer\n",
    "\n",
    "numeric_transfomer=StandardScaler()\n",
    "oh_transformer=OneHotEncoder()\n",
    "\n",
    "preprocessor=ColumnTransformer(\n",
    "    [(\"oneHotEncoder\",oh_transformer,cat_features), \n",
    "    ('standardScaler',numeric_transfomer,num_features)]\n",
    ")"
   ]
  },
  {
   "cell_type": "code",
   "execution_count": 15,
   "metadata": {},
   "outputs": [],
   "source": [
    "X=preprocessor.fit_transform(X)"
   ]
  },
  {
   "cell_type": "code",
   "execution_count": 16,
   "metadata": {},
   "outputs": [
    {
     "data": {
      "text/plain": [
       "(1000, 19)"
      ]
     },
     "execution_count": 16,
     "metadata": {},
     "output_type": "execute_result"
    }
   ],
   "source": [
    "X.shape"
   ]
  },
  {
   "cell_type": "code",
   "execution_count": 18,
   "metadata": {},
   "outputs": [
    {
     "data": {
      "text/plain": [
       "((800, 19), (200, 19))"
      ]
     },
     "execution_count": 18,
     "metadata": {},
     "output_type": "execute_result"
    }
   ],
   "source": [
    "from sklearn.model_selection import train_test_split\n",
    "\n",
    "X_train,X_test, y_train,y_test=train_test_split(X, y, test_size=0.2, shuffle=True,random_state=42)\n",
    "X_train.shape, X_test.shape"
   ]
  },
  {
   "cell_type": "code",
   "execution_count": 21,
   "metadata": {},
   "outputs": [],
   "source": [
    "def evaluated_model(true, predicted):\n",
    "    mae=mean_absolute_error(true, predicted)\n",
    "    mse=mean_squared_error(true, predicted)\n",
    "    rmse=np.sqrt(mean_squared_error(true, predicted))\n",
    "    r2=r2_score(true,predicted)\n",
    "    return mae,rmse,r2"
   ]
  },
  {
   "cell_type": "code",
   "execution_count": 32,
   "metadata": {},
   "outputs": [
    {
     "name": "stdout",
     "output_type": "stream",
     "text": [
      "AdaBoostRegressor\n",
      "model performance for training set : model: AdaBoostRegressor , mae :4.8139942479681395 , rmse: 5.878283576951116 , r2 : 0.8467305249940443\n",
      "mdoel performance for test set : model: AdaBoostRegressor, mae :4.8210864161379705 , rmse: 6.167885824950527 , r2 : 0.8436629173627112\n",
      "CatBoostRegressor\n",
      "model performance for training set : model: CatBoostRegressor , mae :2.405393926779502 , rmse: 3.042664195326799 , r2 : 0.9589358676277713\n",
      "mdoel performance for test set : model: CatBoostRegressor, mae :4.612531714976557 , rmse: 6.008631956907363 , r2 : 0.8516318920747058\n",
      "LinearRegression\n",
      "model performance for training set : model: LinearRegression , mae :4.266711846071957 , rmse: 5.323050852720514 , r2 : 0.8743172040139593\n",
      "mdoel performance for test set : model: LinearRegression, mae :4.214763142474852 , rmse: 5.393993869732845 , r2 : 0.8804332983749564\n",
      "Ridge\n",
      "model performance for training set : model: Ridge , mae :4.264987823725981 , rmse: 5.323324922741654 , r2 : 0.8743042615212909\n",
      "mdoel performance for test set : model: Ridge, mae :4.21110068801426 , rmse: 5.390387016935637 , r2 : 0.8805931485028738\n",
      "KneighborsRegressor\n",
      "model performance for training set : model: KneighborsRegressor , mae :4.5177499999999995 , rmse: 5.70884839525451 , r2 : 0.8554388403823893\n",
      "mdoel performance for test set : model: KneighborsRegressor, mae :5.609 , rmse: 7.249399975170358 , r2 : 0.7840299763621361\n",
      "RandomForestRegressor\n",
      "model performance for training set : model: RandomForestRegressor , mae :1.8363062499999998 , rmse: 2.3271647385791385 , r2 : 0.9759780167963927\n",
      "mdoel performance for test set : model: RandomForestRegressor, mae :4.589295833333333 , rmse: 5.96540645473038 , r2 : 0.8537589045948404\n",
      "DecisionTreeRegressor\n",
      "model performance for training set : model: DecisionTreeRegressor , mae :0.01875 , rmse: 0.2795084971874737 , r2 : 0.9996534669718089\n",
      "mdoel performance for test set : model: DecisionTreeRegressor, mae :6.065 , rmse: 7.7327226770394395 , r2 : 0.7542722398108971\n",
      "XGBRegressor\n",
      "model performance for training set : model: XGBRegressor , mae :0.6874666035175323 , rmse: 1.0072816866027385 , r2 : 0.9954995444196413\n",
      "mdoel performance for test set : model: XGBRegressor, mae :5.057730598449707 , rmse: 6.4733073671713335 , r2 : 0.8277965653186071\n",
      "Lasso\n",
      "model performance for training set : model: Lasso , mae :5.206302661246526 , rmse: 6.593815587795565 , r2 : 0.8071462015863458\n",
      "mdoel performance for test set : model: Lasso, mae :5.157881810347763 , rmse: 6.519694535667419 , r2 : 0.8253197323627853\n"
     ]
    }
   ],
   "source": [
    "models={\n",
    "'AdaBoostRegressor':AdaBoostRegressor(),\n",
    "'CatBoostRegressor':CatBoostRegressor(verbose=False),\n",
    "'LinearRegression':LinearRegression(),\n",
    "\"Ridge\":Ridge(),\n",
    "'KneighborsRegressor':KNeighborsRegressor(),\n",
    "'RandomForestRegressor': RandomForestRegressor(),\n",
    "'DecisionTreeRegressor':DecisionTreeRegressor(),\n",
    "'XGBRegressor':XGBRegressor(),\n",
    "'Lasso':Lasso()\n",
    "\n",
    "}\n",
    "model_list=[]\n",
    "r2_list=[]\n",
    "rmse_list=[]\n",
    "for i in range(len(list(models))):\n",
    "    model=list(models.values())[i]\n",
    "    model.fit(X_train,y_train)\n",
    "\n",
    "    #predict y hat\n",
    "    y_train_pred=model.predict(X_train)\n",
    "    y_test_pred=model.predict(X_test)\n",
    "\n",
    "    #evaluate the predictions\n",
    "    train_mae,train_rmse,train_r2 = evaluated_model(y_train,y_train_pred)\n",
    "    test_mae,test_rmse,test_r2 = evaluated_model(y_test,y_test_pred)\n",
    "\n",
    "\n",
    "    print(list(models.keys())[i])\n",
    "    model_list.append(list(models.keys())[i])\n",
    "    \n",
    "    print(f\"model performance for training set : model: {list(models.keys())[i]} , mae :{train_mae} , rmse: {train_rmse} , r2 : {train_r2}\")\n",
    "    print(f\"mdoel performance for test set : model: {list(models.keys())[i]}, mae :{test_mae} , rmse: {test_rmse} , r2 : {test_r2}\")\n",
    "    r2_list.append(test_r2)\n",
    "    rmse_list.append(test_rmse)"
   ]
  },
  {
   "cell_type": "code",
   "execution_count": 30,
   "metadata": {},
   "outputs": [],
   "source": [
    "result_df=pd.DataFrame(list(zip(models, r2_list)), columns=['model name','r2 score']).sort_values(by=['r2 score'], ascending=False)"
   ]
  },
  {
   "cell_type": "code",
   "execution_count": 31,
   "metadata": {},
   "outputs": [
    {
     "data": {
      "text/html": [
       "<div>\n",
       "<style scoped>\n",
       "    .dataframe tbody tr th:only-of-type {\n",
       "        vertical-align: middle;\n",
       "    }\n",
       "\n",
       "    .dataframe tbody tr th {\n",
       "        vertical-align: top;\n",
       "    }\n",
       "\n",
       "    .dataframe thead th {\n",
       "        text-align: right;\n",
       "    }\n",
       "</style>\n",
       "<table border=\"1\" class=\"dataframe\">\n",
       "  <thead>\n",
       "    <tr style=\"text-align: right;\">\n",
       "      <th></th>\n",
       "      <th>model name</th>\n",
       "      <th>r2 score</th>\n",
       "    </tr>\n",
       "  </thead>\n",
       "  <tbody>\n",
       "    <tr>\n",
       "      <th>3</th>\n",
       "      <td>Ridge</td>\n",
       "      <td>0.880593</td>\n",
       "    </tr>\n",
       "    <tr>\n",
       "      <th>2</th>\n",
       "      <td>LinearRegression</td>\n",
       "      <td>0.880433</td>\n",
       "    </tr>\n",
       "    <tr>\n",
       "      <th>5</th>\n",
       "      <td>RandomForestRegressor</td>\n",
       "      <td>0.853931</td>\n",
       "    </tr>\n",
       "    <tr>\n",
       "      <th>0</th>\n",
       "      <td>AdaBoostRegressor</td>\n",
       "      <td>0.851899</td>\n",
       "    </tr>\n",
       "    <tr>\n",
       "      <th>1</th>\n",
       "      <td>CatBoostRegressor</td>\n",
       "      <td>0.851632</td>\n",
       "    </tr>\n",
       "    <tr>\n",
       "      <th>7</th>\n",
       "      <td>XGBRegressor</td>\n",
       "      <td>0.827797</td>\n",
       "    </tr>\n",
       "    <tr>\n",
       "      <th>8</th>\n",
       "      <td>Lasso</td>\n",
       "      <td>0.825320</td>\n",
       "    </tr>\n",
       "    <tr>\n",
       "      <th>4</th>\n",
       "      <td>KneighborsRegressor</td>\n",
       "      <td>0.784030</td>\n",
       "    </tr>\n",
       "    <tr>\n",
       "      <th>6</th>\n",
       "      <td>DecisionTreeRegressor</td>\n",
       "      <td>0.719691</td>\n",
       "    </tr>\n",
       "  </tbody>\n",
       "</table>\n",
       "</div>"
      ],
      "text/plain": [
       "              model name  r2 score\n",
       "3                  Ridge  0.880593\n",
       "2       LinearRegression  0.880433\n",
       "5  RandomForestRegressor  0.853931\n",
       "0      AdaBoostRegressor  0.851899\n",
       "1      CatBoostRegressor  0.851632\n",
       "7           XGBRegressor  0.827797\n",
       "8                  Lasso  0.825320\n",
       "4    KneighborsRegressor  0.784030\n",
       "6  DecisionTreeRegressor  0.719691"
      ]
     },
     "execution_count": 31,
     "metadata": {},
     "output_type": "execute_result"
    }
   ],
   "source": [
    "result_df"
   ]
  },
  {
   "cell_type": "code",
   "execution_count": 34,
   "metadata": {},
   "outputs": [
    {
     "data": {
      "text/html": [
       "<div>\n",
       "<style scoped>\n",
       "    .dataframe tbody tr th:only-of-type {\n",
       "        vertical-align: middle;\n",
       "    }\n",
       "\n",
       "    .dataframe tbody tr th {\n",
       "        vertical-align: top;\n",
       "    }\n",
       "\n",
       "    .dataframe thead th {\n",
       "        text-align: right;\n",
       "    }\n",
       "</style>\n",
       "<table border=\"1\" class=\"dataframe\">\n",
       "  <thead>\n",
       "    <tr style=\"text-align: right;\">\n",
       "      <th></th>\n",
       "      <th>model names</th>\n",
       "      <th>rmse</th>\n",
       "    </tr>\n",
       "  </thead>\n",
       "  <tbody>\n",
       "    <tr>\n",
       "      <th>3</th>\n",
       "      <td>Ridge</td>\n",
       "      <td>5.390387</td>\n",
       "    </tr>\n",
       "    <tr>\n",
       "      <th>2</th>\n",
       "      <td>LinearRegression</td>\n",
       "      <td>5.393994</td>\n",
       "    </tr>\n",
       "    <tr>\n",
       "      <th>5</th>\n",
       "      <td>RandomForestRegressor</td>\n",
       "      <td>5.965406</td>\n",
       "    </tr>\n",
       "    <tr>\n",
       "      <th>1</th>\n",
       "      <td>CatBoostRegressor</td>\n",
       "      <td>6.008632</td>\n",
       "    </tr>\n",
       "    <tr>\n",
       "      <th>0</th>\n",
       "      <td>AdaBoostRegressor</td>\n",
       "      <td>6.167886</td>\n",
       "    </tr>\n",
       "    <tr>\n",
       "      <th>7</th>\n",
       "      <td>XGBRegressor</td>\n",
       "      <td>6.473307</td>\n",
       "    </tr>\n",
       "    <tr>\n",
       "      <th>8</th>\n",
       "      <td>Lasso</td>\n",
       "      <td>6.519695</td>\n",
       "    </tr>\n",
       "    <tr>\n",
       "      <th>4</th>\n",
       "      <td>KneighborsRegressor</td>\n",
       "      <td>7.249400</td>\n",
       "    </tr>\n",
       "    <tr>\n",
       "      <th>6</th>\n",
       "      <td>DecisionTreeRegressor</td>\n",
       "      <td>7.732723</td>\n",
       "    </tr>\n",
       "  </tbody>\n",
       "</table>\n",
       "</div>"
      ],
      "text/plain": [
       "             model names      rmse\n",
       "3                  Ridge  5.390387\n",
       "2       LinearRegression  5.393994\n",
       "5  RandomForestRegressor  5.965406\n",
       "1      CatBoostRegressor  6.008632\n",
       "0      AdaBoostRegressor  6.167886\n",
       "7           XGBRegressor  6.473307\n",
       "8                  Lasso  6.519695\n",
       "4    KneighborsRegressor  7.249400\n",
       "6  DecisionTreeRegressor  7.732723"
      ]
     },
     "execution_count": 34,
     "metadata": {},
     "output_type": "execute_result"
    }
   ],
   "source": [
    "pd.DataFrame(list(zip(models,rmse_list)), columns=['model names','rmse']).sort_values(by=['rmse'], ascending=True)"
   ]
  }
 ],
 "metadata": {
  "kernelspec": {
   "display_name": "newenv",
   "language": "python",
   "name": "python3"
  },
  "language_info": {
   "codemirror_mode": {
    "name": "ipython",
    "version": 3
   },
   "file_extension": ".py",
   "mimetype": "text/x-python",
   "name": "python",
   "nbconvert_exporter": "python",
   "pygments_lexer": "ipython3",
   "version": "3.10.13"
  }
 },
 "nbformat": 4,
 "nbformat_minor": 2
}
